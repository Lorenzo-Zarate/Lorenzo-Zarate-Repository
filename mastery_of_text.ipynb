{
 "cells": [
  {
   "cell_type": "code",
   "execution_count": 1,
   "id": "0d553de9-581e-4540-b5d6-97abf2390195",
   "metadata": {},
   "outputs": [],
   "source": [
    "import urllib.request\n",
    "\n",
    "url = \"https://www.gutenberg.org/cache/epub/10/pg10.txt\"\n",
    "\n",
    "with urllib.request.urlopen(url) as response:\n",
    "    pg10 = response.read().decode('utf-8')"
   ]
  },
  {
   "cell_type": "code",
   "execution_count": 14,
   "id": "2bff585f-bcc3-4e1e-9d0e-664fb5a9115b",
   "metadata": {},
   "outputs": [
    {
     "name": "stdout",
     "output_type": "stream",
     "text": [
      "Number of lines: 99968\n"
     ]
    }
   ],
   "source": [
    "lines = pg10.splitlines()\n",
    "num_lines = len(lines)\n",
    "print(f\"Number of lines: {num_lines}\")"
   ]
  },
  {
   "cell_type": "code",
   "execution_count": 18,
   "id": "ed650717-8fe0-4d50-afb8-f9270404ea5f",
   "metadata": {},
   "outputs": [
    {
     "name": "stdout",
     "output_type": "stream",
     "text": [
      "Word Count: 795227\n"
     ]
    }
   ],
   "source": [
    "pg10_lower = pg10.lower()\n",
    "\n",
    "words = []\n",
    "current_word = ''\n",
    "for char in pg10_lower:\n",
    "    if 'a' <= char <= 'z': \n",
    "        current_word += char\n",
    "    else:\n",
    "        if current_word:\n",
    "            words.append(current_word)\n",
    "            current_word = ''\n",
    "if current_word:\n",
    "    words.append(current_word)\n",
    "\n",
    "word_count = len(words)\n",
    "\n",
    "print(f\"Word Count: {word_count}\")"
   ]
  },
  {
   "cell_type": "code",
   "execution_count": 21,
   "id": "672c1c66-9020-40f8-ac81-9c96d97cc49f",
   "metadata": {},
   "outputs": [
    {
     "name": "stdout",
     "output_type": "stream",
     "text": [
      "The word 'apostle' appears 47 times in the text\n"
     ]
    }
   ],
   "source": [
    "apostle_occurences = words.count(\"apostle\")\n",
    "print(f\"The word 'apostle' appears {apostle_occurences} times in the text\")"
   ]
  },
  {
   "cell_type": "code",
   "execution_count": 22,
   "id": "80b79838-74ac-4e60-b2db-7de3854b6bf5",
   "metadata": {},
   "outputs": [
    {
     "name": "stdout",
     "output_type": "stream",
     "text": [
      " The word 'the' is the most common word.\n"
     ]
    }
   ],
   "source": [
    "frequencies = {}\n",
    "for word in words:\n",
    "    frequencies[word] = frequencies.get(word, 0) + 1\n",
    "\n",
    "most_common = None\n",
    "max_count = 0\n",
    "for word in frequencies:\n",
    "    if frequencies[word] > max_count:\n",
    "        most_common = word\n",
    "        max_count = frequencies[word]\n",
    "\n",
    "print(f\" The word '{most_common}' is the most common word.\")"
   ]
  }
 ],
 "metadata": {
  "kernelspec": {
   "display_name": "Python [conda env:base] *",
   "language": "python",
   "name": "conda-base-py"
  },
  "language_info": {
   "codemirror_mode": {
    "name": "ipython",
    "version": 3
   },
   "file_extension": ".py",
   "mimetype": "text/x-python",
   "name": "python",
   "nbconvert_exporter": "python",
   "pygments_lexer": "ipython3",
   "version": "3.12.7"
  }
 },
 "nbformat": 4,
 "nbformat_minor": 5
}
